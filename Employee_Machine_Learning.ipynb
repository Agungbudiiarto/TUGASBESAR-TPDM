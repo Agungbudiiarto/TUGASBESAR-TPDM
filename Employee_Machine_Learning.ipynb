{
  "cells": [
    {
      "cell_type": "code",
      "execution_count": 46,
      "metadata": {
        "id": "0U7yMmIGYxTH"
      },
      "outputs": [],
      "source": [
        "import pandas as pd\n",
        "import numpy as np\n",
        "import matplotlib.pyplot as plt\n",
        "from sklearn.cluster import KMeans\n",
        "from sklearn.preprocessing import MinMaxScaler"
      ]
    },
    {
      "cell_type": "code",
      "execution_count": 82,
      "metadata": {
        "colab": {
          "base_uri": "https://localhost:8080/"
        },
        "id": "ONeAl9-jY1tY",
        "outputId": "b7b8eeb8-c76b-475c-d0b2-86450e80927e"
      },
      "outputs": [
        {
          "name": "stdout",
          "output_type": "stream",
          "text": [
            "     Nama  Kehadiran  Kedisiplinan  Tanggung Jawab  Attitude  Komunikasi  \\\n",
            "0   Agung          5             5               4         5           5   \n",
            "1    Agus          5             5               5         5           4   \n",
            "2    Asep          4             5               4         4           5   \n",
            "3  Andika          4             5               5         4           4   \n",
            "4  Andika          3             5               5         3           3   \n",
            "\n",
            "   Jumlah  Keterangan  \n",
            "0      24           0  \n",
            "1      24           0  \n",
            "2      22           0  \n",
            "3      22           0  \n",
            "4      19           1  \n"
          ]
        }
      ],
      "source": [
        "df = pd.read_csv('ds.csv', delimiter=\",\")\n",
        "print(df.head())"
      ]
    },
    {
      "cell_type": "code",
      "execution_count": 48,
      "metadata": {
        "colab": {
          "base_uri": "https://localhost:8080/",
          "height": 363
        },
        "id": "7l1Hl72DZK6v",
        "outputId": "3d93ea8b-8913-4db5-cf91-27f5d7dc9f9f"
      },
      "outputs": [
        {
          "data": {
            "text/html": [
              "<div>\n",
              "<style scoped>\n",
              "    .dataframe tbody tr th:only-of-type {\n",
              "        vertical-align: middle;\n",
              "    }\n",
              "\n",
              "    .dataframe tbody tr th {\n",
              "        vertical-align: top;\n",
              "    }\n",
              "\n",
              "    .dataframe thead th {\n",
              "        text-align: right;\n",
              "    }\n",
              "</style>\n",
              "<table border=\"1\" class=\"dataframe\">\n",
              "  <thead>\n",
              "    <tr style=\"text-align: right;\">\n",
              "      <th></th>\n",
              "      <th>Nama</th>\n",
              "      <th>Kehadiran</th>\n",
              "      <th>Kedisiplinan</th>\n",
              "      <th>Tanggung Jawab</th>\n",
              "      <th>Attitude</th>\n",
              "      <th>Komunikasi</th>\n",
              "      <th>Jumlah</th>\n",
              "      <th>Keterangan</th>\n",
              "    </tr>\n",
              "  </thead>\n",
              "  <tbody>\n",
              "    <tr>\n",
              "      <th>0</th>\n",
              "      <td>Agung</td>\n",
              "      <td>5</td>\n",
              "      <td>5</td>\n",
              "      <td>4</td>\n",
              "      <td>5</td>\n",
              "      <td>5</td>\n",
              "      <td>24</td>\n",
              "      <td>0</td>\n",
              "    </tr>\n",
              "    <tr>\n",
              "      <th>1</th>\n",
              "      <td>Agus</td>\n",
              "      <td>5</td>\n",
              "      <td>5</td>\n",
              "      <td>5</td>\n",
              "      <td>5</td>\n",
              "      <td>4</td>\n",
              "      <td>24</td>\n",
              "      <td>0</td>\n",
              "    </tr>\n",
              "    <tr>\n",
              "      <th>2</th>\n",
              "      <td>Asep</td>\n",
              "      <td>4</td>\n",
              "      <td>5</td>\n",
              "      <td>4</td>\n",
              "      <td>4</td>\n",
              "      <td>5</td>\n",
              "      <td>22</td>\n",
              "      <td>0</td>\n",
              "    </tr>\n",
              "    <tr>\n",
              "      <th>3</th>\n",
              "      <td>Andika</td>\n",
              "      <td>4</td>\n",
              "      <td>5</td>\n",
              "      <td>5</td>\n",
              "      <td>4</td>\n",
              "      <td>4</td>\n",
              "      <td>22</td>\n",
              "      <td>0</td>\n",
              "    </tr>\n",
              "    <tr>\n",
              "      <th>4</th>\n",
              "      <td>Andika</td>\n",
              "      <td>3</td>\n",
              "      <td>5</td>\n",
              "      <td>5</td>\n",
              "      <td>3</td>\n",
              "      <td>3</td>\n",
              "      <td>19</td>\n",
              "      <td>1</td>\n",
              "    </tr>\n",
              "    <tr>\n",
              "      <th>5</th>\n",
              "      <td>Ariq</td>\n",
              "      <td>3</td>\n",
              "      <td>5</td>\n",
              "      <td>5</td>\n",
              "      <td>3</td>\n",
              "      <td>5</td>\n",
              "      <td>21</td>\n",
              "      <td>0</td>\n",
              "    </tr>\n",
              "    <tr>\n",
              "      <th>6</th>\n",
              "      <td>Aloy</td>\n",
              "      <td>5</td>\n",
              "      <td>5</td>\n",
              "      <td>3</td>\n",
              "      <td>5</td>\n",
              "      <td>5</td>\n",
              "      <td>23</td>\n",
              "      <td>0</td>\n",
              "    </tr>\n",
              "    <tr>\n",
              "      <th>7</th>\n",
              "      <td>Avi</td>\n",
              "      <td>4</td>\n",
              "      <td>5</td>\n",
              "      <td>3</td>\n",
              "      <td>4</td>\n",
              "      <td>5</td>\n",
              "      <td>21</td>\n",
              "      <td>0</td>\n",
              "    </tr>\n",
              "    <tr>\n",
              "      <th>8</th>\n",
              "      <td>Aren</td>\n",
              "      <td>5</td>\n",
              "      <td>5</td>\n",
              "      <td>3</td>\n",
              "      <td>5</td>\n",
              "      <td>5</td>\n",
              "      <td>23</td>\n",
              "      <td>0</td>\n",
              "    </tr>\n",
              "    <tr>\n",
              "      <th>9</th>\n",
              "      <td>Abidah</td>\n",
              "      <td>5</td>\n",
              "      <td>5</td>\n",
              "      <td>3</td>\n",
              "      <td>5</td>\n",
              "      <td>3</td>\n",
              "      <td>21</td>\n",
              "      <td>0</td>\n",
              "    </tr>\n",
              "  </tbody>\n",
              "</table>\n",
              "</div>"
            ],
            "text/plain": [
              "     Nama  Kehadiran  Kedisiplinan  Tanggung Jawab  Attitude  Komunikasi  \\\n",
              "0   Agung          5             5               4         5           5   \n",
              "1    Agus          5             5               5         5           4   \n",
              "2    Asep          4             5               4         4           5   \n",
              "3  Andika          4             5               5         4           4   \n",
              "4  Andika          3             5               5         3           3   \n",
              "5    Ariq          3             5               5         3           5   \n",
              "6    Aloy          5             5               3         5           5   \n",
              "7     Avi          4             5               3         4           5   \n",
              "8    Aren          5             5               3         5           5   \n",
              "9  Abidah          5             5               3         5           3   \n",
              "\n",
              "   Jumlah  Keterangan  \n",
              "0      24           0  \n",
              "1      24           0  \n",
              "2      22           0  \n",
              "3      22           0  \n",
              "4      19           1  \n",
              "5      21           0  \n",
              "6      23           0  \n",
              "7      21           0  \n",
              "8      23           0  \n",
              "9      21           0  "
            ]
          },
          "execution_count": 48,
          "metadata": {},
          "output_type": "execute_result"
        }
      ],
      "source": [
        "df.head(10)"
      ]
    },
    {
      "cell_type": "code",
      "execution_count": 49,
      "metadata": {},
      "outputs": [
        {
          "name": "stdout",
          "output_type": "stream",
          "text": [
            "<class 'pandas.core.frame.DataFrame'>\n",
            "RangeIndex: 641 entries, 0 to 640\n",
            "Data columns (total 8 columns):\n",
            " #   Column          Non-Null Count  Dtype \n",
            "---  ------          --------------  ----- \n",
            " 0   Nama            641 non-null    object\n",
            " 1   Kehadiran       641 non-null    int64 \n",
            " 2   Kedisiplinan    641 non-null    int64 \n",
            " 3   Tanggung Jawab  641 non-null    int64 \n",
            " 4   Attitude        641 non-null    int64 \n",
            " 5   Komunikasi      641 non-null    int64 \n",
            " 6   Jumlah          641 non-null    int64 \n",
            " 7   Keterangan      641 non-null    int64 \n",
            "dtypes: int64(7), object(1)\n",
            "memory usage: 40.2+ KB\n"
          ]
        }
      ],
      "source": [
        "df.info()"
      ]
    },
    {
      "cell_type": "code",
      "execution_count": 50,
      "metadata": {},
      "outputs": [
        {
          "data": {
            "text/html": [
              "<div>\n",
              "<style scoped>\n",
              "    .dataframe tbody tr th:only-of-type {\n",
              "        vertical-align: middle;\n",
              "    }\n",
              "\n",
              "    .dataframe tbody tr th {\n",
              "        vertical-align: top;\n",
              "    }\n",
              "\n",
              "    .dataframe thead th {\n",
              "        text-align: right;\n",
              "    }\n",
              "</style>\n",
              "<table border=\"1\" class=\"dataframe\">\n",
              "  <thead>\n",
              "    <tr style=\"text-align: right;\">\n",
              "      <th></th>\n",
              "      <th>Kehadiran</th>\n",
              "      <th>Kedisiplinan</th>\n",
              "      <th>Tanggung Jawab</th>\n",
              "      <th>Attitude</th>\n",
              "      <th>Komunikasi</th>\n",
              "      <th>Jumlah</th>\n",
              "      <th>Keterangan</th>\n",
              "    </tr>\n",
              "  </thead>\n",
              "  <tbody>\n",
              "    <tr>\n",
              "      <th>0</th>\n",
              "      <td>5</td>\n",
              "      <td>5</td>\n",
              "      <td>4</td>\n",
              "      <td>5</td>\n",
              "      <td>5</td>\n",
              "      <td>24</td>\n",
              "      <td>0</td>\n",
              "    </tr>\n",
              "    <tr>\n",
              "      <th>1</th>\n",
              "      <td>5</td>\n",
              "      <td>5</td>\n",
              "      <td>5</td>\n",
              "      <td>5</td>\n",
              "      <td>4</td>\n",
              "      <td>24</td>\n",
              "      <td>0</td>\n",
              "    </tr>\n",
              "    <tr>\n",
              "      <th>2</th>\n",
              "      <td>4</td>\n",
              "      <td>5</td>\n",
              "      <td>4</td>\n",
              "      <td>4</td>\n",
              "      <td>5</td>\n",
              "      <td>22</td>\n",
              "      <td>0</td>\n",
              "    </tr>\n",
              "    <tr>\n",
              "      <th>3</th>\n",
              "      <td>4</td>\n",
              "      <td>5</td>\n",
              "      <td>5</td>\n",
              "      <td>4</td>\n",
              "      <td>4</td>\n",
              "      <td>22</td>\n",
              "      <td>0</td>\n",
              "    </tr>\n",
              "    <tr>\n",
              "      <th>4</th>\n",
              "      <td>3</td>\n",
              "      <td>5</td>\n",
              "      <td>5</td>\n",
              "      <td>3</td>\n",
              "      <td>3</td>\n",
              "      <td>19</td>\n",
              "      <td>1</td>\n",
              "    </tr>\n",
              "    <tr>\n",
              "      <th>...</th>\n",
              "      <td>...</td>\n",
              "      <td>...</td>\n",
              "      <td>...</td>\n",
              "      <td>...</td>\n",
              "      <td>...</td>\n",
              "      <td>...</td>\n",
              "      <td>...</td>\n",
              "    </tr>\n",
              "    <tr>\n",
              "      <th>636</th>\n",
              "      <td>5</td>\n",
              "      <td>4</td>\n",
              "      <td>3</td>\n",
              "      <td>4</td>\n",
              "      <td>5</td>\n",
              "      <td>21</td>\n",
              "      <td>0</td>\n",
              "    </tr>\n",
              "    <tr>\n",
              "      <th>637</th>\n",
              "      <td>4</td>\n",
              "      <td>5</td>\n",
              "      <td>3</td>\n",
              "      <td>4</td>\n",
              "      <td>3</td>\n",
              "      <td>19</td>\n",
              "      <td>1</td>\n",
              "    </tr>\n",
              "    <tr>\n",
              "      <th>638</th>\n",
              "      <td>4</td>\n",
              "      <td>5</td>\n",
              "      <td>5</td>\n",
              "      <td>4</td>\n",
              "      <td>5</td>\n",
              "      <td>23</td>\n",
              "      <td>0</td>\n",
              "    </tr>\n",
              "    <tr>\n",
              "      <th>639</th>\n",
              "      <td>4</td>\n",
              "      <td>5</td>\n",
              "      <td>4</td>\n",
              "      <td>4</td>\n",
              "      <td>5</td>\n",
              "      <td>22</td>\n",
              "      <td>0</td>\n",
              "    </tr>\n",
              "    <tr>\n",
              "      <th>640</th>\n",
              "      <td>4</td>\n",
              "      <td>5</td>\n",
              "      <td>5</td>\n",
              "      <td>4</td>\n",
              "      <td>5</td>\n",
              "      <td>23</td>\n",
              "      <td>0</td>\n",
              "    </tr>\n",
              "  </tbody>\n",
              "</table>\n",
              "<p>641 rows × 7 columns</p>\n",
              "</div>"
            ],
            "text/plain": [
              "     Kehadiran  Kedisiplinan  Tanggung Jawab  Attitude  Komunikasi  Jumlah  \\\n",
              "0            5             5               4         5           5      24   \n",
              "1            5             5               5         5           4      24   \n",
              "2            4             5               4         4           5      22   \n",
              "3            4             5               5         4           4      22   \n",
              "4            3             5               5         3           3      19   \n",
              "..         ...           ...             ...       ...         ...     ...   \n",
              "636          5             4               3         4           5      21   \n",
              "637          4             5               3         4           3      19   \n",
              "638          4             5               5         4           5      23   \n",
              "639          4             5               4         4           5      22   \n",
              "640          4             5               5         4           5      23   \n",
              "\n",
              "     Keterangan  \n",
              "0             0  \n",
              "1             0  \n",
              "2             0  \n",
              "3             0  \n",
              "4             1  \n",
              "..          ...  \n",
              "636           0  \n",
              "637           1  \n",
              "638           0  \n",
              "639           0  \n",
              "640           0  \n",
              "\n",
              "[641 rows x 7 columns]"
            ]
          },
          "execution_count": 50,
          "metadata": {},
          "output_type": "execute_result"
        }
      ],
      "source": [
        "df.drop(['Nama'], axis=1)"
      ]
    },
    {
      "cell_type": "code",
      "execution_count": 51,
      "metadata": {
        "colab": {
          "base_uri": "https://localhost:8080/"
        },
        "id": "Bkw0ilx8jZRg",
        "outputId": "ea615f10-476e-47c7-f7b9-b1c09d90dd2d"
      },
      "outputs": [
        {
          "data": {
            "text/plain": [
              "array([[ 5, 24],\n",
              "       [ 5, 24],\n",
              "       [ 5, 22],\n",
              "       ...,\n",
              "       [ 5, 23],\n",
              "       [ 5, 22],\n",
              "       [ 5, 23]], dtype=int64)"
            ]
          },
          "execution_count": 51,
          "metadata": {},
          "output_type": "execute_result"
        }
      ],
      "source": [
        "df_x = df.iloc[:, [2,6]].values\n",
        "df_x"
      ]
    },
    {
      "cell_type": "markdown",
      "metadata": {
        "id": "pxoMPM-ETefb"
      },
      "source": [
        "# CLUSTERING"
      ]
    },
    {
      "cell_type": "code",
      "execution_count": 52,
      "metadata": {
        "colab": {
          "base_uri": "https://localhost:8080/",
          "height": 295
        },
        "id": "xtyBascnjZVD",
        "outputId": "eb990f7f-5da8-4513-cc4a-dca0aaae7e19"
      },
      "outputs": [
        {
          "name": "stderr",
          "output_type": "stream",
          "text": [
            "c:\\Users\\Agung\\AppData\\Local\\Programs\\Python\\Python311\\Lib\\site-packages\\sklearn\\cluster\\_kmeans.py:870: FutureWarning: The default value of `n_init` will change from 10 to 'auto' in 1.4. Set the value of `n_init` explicitly to suppress the warning\n",
            "  warnings.warn(\n",
            "c:\\Users\\Agung\\AppData\\Local\\Programs\\Python\\Python311\\Lib\\site-packages\\sklearn\\cluster\\_kmeans.py:870: FutureWarning: The default value of `n_init` will change from 10 to 'auto' in 1.4. Set the value of `n_init` explicitly to suppress the warning\n",
            "  warnings.warn(\n",
            "c:\\Users\\Agung\\AppData\\Local\\Programs\\Python\\Python311\\Lib\\site-packages\\sklearn\\cluster\\_kmeans.py:870: FutureWarning: The default value of `n_init` will change from 10 to 'auto' in 1.4. Set the value of `n_init` explicitly to suppress the warning\n",
            "  warnings.warn(\n",
            "c:\\Users\\Agung\\AppData\\Local\\Programs\\Python\\Python311\\Lib\\site-packages\\sklearn\\cluster\\_kmeans.py:870: FutureWarning: The default value of `n_init` will change from 10 to 'auto' in 1.4. Set the value of `n_init` explicitly to suppress the warning\n",
            "  warnings.warn(\n",
            "c:\\Users\\Agung\\AppData\\Local\\Programs\\Python\\Python311\\Lib\\site-packages\\sklearn\\cluster\\_kmeans.py:870: FutureWarning: The default value of `n_init` will change from 10 to 'auto' in 1.4. Set the value of `n_init` explicitly to suppress the warning\n",
            "  warnings.warn(\n",
            "c:\\Users\\Agung\\AppData\\Local\\Programs\\Python\\Python311\\Lib\\site-packages\\sklearn\\cluster\\_kmeans.py:870: FutureWarning: The default value of `n_init` will change from 10 to 'auto' in 1.4. Set the value of `n_init` explicitly to suppress the warning\n",
            "  warnings.warn(\n",
            "c:\\Users\\Agung\\AppData\\Local\\Programs\\Python\\Python311\\Lib\\site-packages\\sklearn\\cluster\\_kmeans.py:870: FutureWarning: The default value of `n_init` will change from 10 to 'auto' in 1.4. Set the value of `n_init` explicitly to suppress the warning\n",
            "  warnings.warn(\n",
            "c:\\Users\\Agung\\AppData\\Local\\Programs\\Python\\Python311\\Lib\\site-packages\\sklearn\\cluster\\_kmeans.py:870: FutureWarning: The default value of `n_init` will change from 10 to 'auto' in 1.4. Set the value of `n_init` explicitly to suppress the warning\n",
            "  warnings.warn(\n",
            "c:\\Users\\Agung\\AppData\\Local\\Programs\\Python\\Python311\\Lib\\site-packages\\sklearn\\cluster\\_kmeans.py:870: FutureWarning: The default value of `n_init` will change from 10 to 'auto' in 1.4. Set the value of `n_init` explicitly to suppress the warning\n",
            "  warnings.warn(\n",
            "c:\\Users\\Agung\\AppData\\Local\\Programs\\Python\\Python311\\Lib\\site-packages\\sklearn\\cluster\\_kmeans.py:870: FutureWarning: The default value of `n_init` will change from 10 to 'auto' in 1.4. Set the value of `n_init` explicitly to suppress the warning\n",
            "  warnings.warn(\n"
          ]
        },
        {
          "data": {
            "image/png": "[encoded data removed]",
            "text/plain": [
              "<Figure size 640x480 with 1 Axes>"
            ]
          },
          "metadata": {},
          "output_type": "display_data"
        }
      ],
      "source": [
        "wcss = []\n",
        "\n",
        "for i in range(1,11) :\n",
        "  kmeans = KMeans(n_clusters = i, init = 'k-means++', random_state = 42)\n",
        "\n",
        "  kmeans.fit(df_x)\n",
        "  wcss.append(kmeans.inertia_)\n",
        "  \n",
        "plt.plot(range(1,11), wcss)\n",
        "plt.title('The Elbow Method')\n",
        "plt.xlabel('Number of clusters')\n",
        "plt.ylabel('WCSS')\n",
        "plt.show()"
      ]
    },
    {
      "cell_type": "code",
      "execution_count": 53,
      "metadata": {
        "id": "KYqEnfD9jZcf"
      },
      "outputs": [
        {
          "name": "stderr",
          "output_type": "stream",
          "text": [
            "c:\\Users\\Agung\\AppData\\Local\\Programs\\Python\\Python311\\Lib\\site-packages\\sklearn\\cluster\\_kmeans.py:870: FutureWarning: The default value of `n_init` will change from 10 to 'auto' in 1.4. Set the value of `n_init` explicitly to suppress the warning\n",
            "  warnings.warn(\n"
          ]
        }
      ],
      "source": [
        "kmeans = KMeans(n_clusters = 5, init = 'k-means++', random_state = 42)\n",
        "y_kmeans = kmeans.fit_predict(df_x)"
      ]
    },
    {
      "cell_type": "code",
      "execution_count": 54,
      "metadata": {
        "colab": {
          "base_uri": "https://localhost:8080/"
        },
        "id": "NlCwwCfqjZfC",
        "outputId": "614e74d8-c83a-4810-eca2-6cfe9f72ee9e"
      },
      "outputs": [
        {
          "data": {
            "text/plain": [
              "array([0, 0, 3, 3, 1, 2, 3, 2, 3, 2, 3, 0, 2, 2, 3, 2, 0, 1, 1, 0, 3, 3,\n",
              "       3, 2, 2, 1, 1, 2, 0, 2, 0, 0, 2, 2, 3, 2, 0, 0, 0, 0, 0, 0, 2, 3,\n",
              "       3, 2, 4, 2, 3, 3, 2, 2, 3, 3, 1, 3, 2, 3, 3, 0, 0, 0, 2, 1, 3, 0,\n",
              "       2, 3, 1, 3, 4, 2, 3, 0, 3, 3, 3, 3, 2, 3, 3, 3, 0, 0, 0, 2, 2, 3,\n",
              "       1, 2, 2, 3, 3, 1, 1, 3, 0, 0, 0, 3, 3, 3, 4, 2, 3, 2, 3, 3, 3, 0,\n",
              "       2, 2, 2, 0, 0, 0, 3, 0, 0, 1, 2, 2, 2, 0, 1, 0, 3, 3, 2, 2, 0, 0,\n",
              "       0, 0, 0, 3, 3, 1, 2, 3, 2, 3, 2, 3, 0, 2, 2, 3, 2, 0, 1, 1, 0, 3,\n",
              "       3, 3, 2, 2, 1, 1, 2, 0, 2, 0, 0, 2, 2, 3, 2, 0, 0, 0, 0, 0, 0, 2,\n",
              "       3, 3, 2, 4, 2, 3, 3, 2, 2, 3, 3, 0, 3, 2, 0, 0, 3, 1, 4, 3, 2, 3,\n",
              "       3, 0, 3, 1, 1, 1, 3, 2, 3, 3, 0, 0, 0, 2, 1, 3, 0, 2, 3, 1, 3, 4,\n",
              "       2, 3, 0, 3, 3, 0, 1, 3, 3, 2, 2, 2, 0, 2, 3, 3, 3, 2, 3, 3, 3, 0,\n",
              "       0, 0, 2, 2, 3, 1, 2, 2, 1, 1, 1, 4, 4, 2, 3, 4, 1, 4, 1, 1, 4, 1,\n",
              "       1, 1, 2, 1, 4, 1, 1, 4, 0, 4, 1, 1, 1, 1, 2, 4, 0, 4, 2, 4, 2, 1,\n",
              "       4, 2, 1, 0, 4, 4, 4, 2, 2, 4, 2, 1, 1, 1, 4, 1, 2, 1, 4, 1, 2, 1,\n",
              "       1, 3, 1, 4, 1, 1, 1, 2, 3, 2, 4, 3, 2, 4, 3, 1, 2, 1, 3, 1, 1, 2,\n",
              "       1, 1, 2, 1, 1, 1, 2, 2, 1, 4, 4, 2, 4, 1, 1, 4, 1, 1, 3, 3, 1, 3,\n",
              "       1, 1, 1, 1, 4, 3, 4, 1, 1, 1, 0, 4, 2, 2, 1, 1, 4, 1, 1, 1, 1, 1,\n",
              "       4, 1, 0, 3, 3, 1, 1, 3, 0, 0, 0, 3, 3, 3, 4, 2, 3, 2, 3, 3, 3, 0,\n",
              "       2, 2, 3, 2, 0, 1, 1, 0, 3, 3, 3, 2, 2, 4, 1, 2, 2, 2, 0, 0, 2, 2,\n",
              "       2, 2, 0, 0, 0, 3, 0, 0, 1, 2, 2, 2, 4, 1, 1, 2, 1, 2, 3, 3, 0, 2,\n",
              "       2, 3, 0, 3, 1, 4, 3, 1, 2, 3, 2, 3, 1, 4, 1, 3, 2, 3, 3, 0, 0, 0,\n",
              "       2, 1, 3, 0, 2, 3, 1, 3, 4, 2, 3, 0, 3, 3, 0, 1, 3, 3, 2, 2, 2, 0,\n",
              "       2, 3, 3, 3, 2, 3, 3, 3, 0, 0, 0, 2, 2, 3, 1, 2, 2, 3, 3, 1, 3, 1,\n",
              "       3, 2, 3, 2, 3, 3, 2, 1, 3, 3, 3, 3, 3, 0, 2, 2, 3, 2, 0, 1, 1, 0,\n",
              "       3, 3, 3, 2, 2, 4, 1, 2, 2, 2, 0, 0, 2, 2, 2, 2, 0, 0, 0, 3, 0, 0,\n",
              "       1, 2, 2, 2, 4, 1, 1, 2, 1, 2, 3, 3, 0, 2, 2, 3, 0, 3, 1, 4, 3, 1,\n",
              "       2, 3, 2, 3, 1, 4, 1, 3, 2, 3, 3, 0, 0, 0, 2, 1, 3, 0, 2, 3, 1, 3,\n",
              "       4, 2, 3, 0, 3, 3, 0, 1, 3, 3, 2, 2, 2, 0, 2, 3, 3, 3, 2, 3, 3, 3,\n",
              "       0, 0, 0, 2, 2, 3, 1, 2, 2, 3, 3, 1, 3, 1, 3, 2, 3, 2, 3, 3, 2, 1,\n",
              "       3, 3, 3])"
            ]
          },
          "execution_count": 54,
          "metadata": {},
          "output_type": "execute_result"
        }
      ],
      "source": [
        "y_kmeans"
      ]
    },
    {
      "cell_type": "code",
      "execution_count": 55,
      "metadata": {
        "colab": {
          "base_uri": "https://localhost:8080/",
          "height": 295
        },
        "id": "Qf2eKOCKjZhk",
        "outputId": "c71a7829-a7be-4b2c-aa8c-f87c3a99adbf"
      },
      "outputs": [
        {
          "data": {
            "image/png": "[encoded data removed]",
            "text/plain": [
              "<Figure size 640x480 with 1 Axes>"
            ]
          },
          "metadata": {},
          "output_type": "display_data"
        }
      ],
      "source": [
        "plt.scatter(df_x[y_kmeans == 0, 0], df_x[y_kmeans == 0, 1], s = 50, c='red', label ='Cluster 1')\n",
        "plt.scatter(df_x[y_kmeans == 1, 0], df_x[y_kmeans == 1, 1], s = 50, c='blue', label ='Cluster 2')\n",
        "plt.scatter(df_x[y_kmeans == 2, 0], df_x[y_kmeans == 2, 1], s = 50, c='green', label ='Cluster 3')\n",
        "plt.scatter(df_x[y_kmeans == 3, 0], df_x[y_kmeans == 3, 1], s = 50, c='cyan', label ='Cluster 4')\n",
        "plt.scatter(df_x[y_kmeans == 4, 0], df_x[y_kmeans == 4, 1], s = 50, c='magenta', label ='Cluster 5')\n",
        "plt.scatter(kmeans.cluster_centers_[:, 0], kmeans.cluster_centers_[:, 1], s=200, c='yellow', label = 'Centroids')\n",
        "plt.title('Clusters of employee')\n",
        "plt.xlabel('KPI')\n",
        "plt.ylabel('Employee')\n",
        "plt.legend()\n",
        "plt.show()"
      ]
    },
    {
      "cell_type": "markdown",
      "metadata": {
        "id": "lKw8ng17TUht"
      },
      "source": [
        "# KLASIFIKASI"
      ]
    },
    {
      "cell_type": "code",
      "execution_count": 56,
      "metadata": {
        "id": "7t3wyDoXS8xt"
      },
      "outputs": [],
      "source": [
        "x = df.iloc [:, :7].values\n",
        "y = df.iloc [:, 7].values"
      ]
    },
    {
      "cell_type": "code",
      "execution_count": 57,
      "metadata": {
        "colab": {
          "base_uri": "https://localhost:8080/"
        },
        "id": "mLTMtiqvS82O",
        "outputId": "82e16622-4093-45fd-ef96-d57cdf614cdf"
      },
      "outputs": [
        {
          "name": "stdout",
          "output_type": "stream",
          "text": [
            "[['Agung' 5 5 ... 5 5 24]\n",
            " ['Agus' 5 5 ... 5 4 24]\n",
            " ['Asep' 4 5 ... 4 5 22]\n",
            " ...\n",
            " ['Zidane' 4 5 ... 4 5 23]\n",
            " ['Ziva' 4 5 ... 4 5 22]\n",
            " ['Zulfian' 4 5 ... 4 5 23]]\n"
          ]
        }
      ],
      "source": [
        "print(x)"
      ]
    },
    {
      "cell_type": "code",
      "execution_count": 58,
      "metadata": {
        "colab": {
          "base_uri": "https://localhost:8080/"
        },
        "id": "coXazMvnS84s",
        "outputId": "2df42d35-ceaf-4817-db67-ba6aa5526bbd"
      },
      "outputs": [
        {
          "name": "stdout",
          "output_type": "stream",
          "text": [
            "[0 0 0 0 1 0 0 0 0 0 0 0 0 0 0 0 0 0 1 0 0 0 0 0 0 1 0 0 0 0 0 0 0 0 0 0 0\n",
            " 0 0 0 0 0 0 0 0 0 1 0 0 0 0 0 0 0 1 0 0 0 0 0 0 0 0 0 0 0 0 0 1 0 1 0 0 0\n",
            " 0 0 0 0 0 0 0 0 0 0 0 0 0 0 0 0 0 0 0 1 0 0 0 0 0 0 0 0 1 0 0 0 0 0 0 0 0\n",
            " 0 0 0 0 0 0 0 0 0 0 0 0 0 0 0 0 0 0 0 0 0 0 0 0 0 0 1 0 0 0 0 0 0 0 0 0 0\n",
            " 0 0 0 1 0 0 0 0 0 0 1 0 0 0 0 0 0 0 0 0 0 0 0 0 0 0 0 0 0 0 0 1 0 0 0 0 0\n",
            " 0 0 0 0 0 0 0 0 0 1 0 0 0 0 0 0 0 1 1 0 0 0 0 0 0 0 0 0 0 0 0 0 1 0 1 0 0\n",
            " 0 0 0 0 0 0 0 0 0 0 0 0 0 0 0 0 0 0 0 0 0 0 0 0 0 0 0 0 1 0 1 1 1 0 0 1 1\n",
            " 1 1 1 1 0 1 1 0 1 1 1 1 1 0 1 0 0 1 1 0 1 0 1 0 1 0 0 1 0 1 0 1 1 1 0 0 1\n",
            " 0 0 0 0 1 0 0 1 1 1 0 0 0 0 0 1 0 0 1 0 0 0 1 0 0 1 0 0 0 0 0 1 1 0 0 0 0\n",
            " 0 1 1 0 0 1 1 1 0 1 0 0 1 0 0 0 0 0 0 0 0 0 0 1 0 1 1 1 0 0 1 0 0 1 1 1 0\n",
            " 0 1 0 0 1 1 0 0 0 1 0 0 0 0 0 0 0 0 1 0 0 0 0 0 0 0 0 0 0 0 0 0 1 0 0 0 0\n",
            " 0 0 1 0 0 0 0 0 0 0 0 0 0 0 0 0 0 0 0 0 0 0 0 1 0 0 0 1 0 0 0 0 0 0 0 0 0\n",
            " 0 1 0 0 0 0 0 0 1 1 1 0 0 0 0 0 0 0 0 0 0 0 0 0 1 0 1 0 0 0 0 0 0 0 0 0 0\n",
            " 0 0 0 0 0 0 0 0 0 0 0 0 0 0 0 0 0 0 0 0 0 0 1 0 1 0 0 0 0 0 0 0 1 0 0 0 0\n",
            " 0 0 0 0 0 0 0 0 1 0 0 0 0 0 0 1 0 0 0 0 0 0 0 0 0 0 0 0 0 0 0 0 0 0 0 0 1\n",
            " 0 0 0 1 0 0 0 0 0 0 0 0 0 0 1 0 0 0 0 0 0 1 1 1 0 0 0 0 0 0 0 0 0 0 0 0 0\n",
            " 1 0 1 0 0 0 0 0 0 0 0 0 0 0 0 0 0 0 0 0 0 0 0 0 0 0 0 0 0 0 0 0 0 0 0 1 0\n",
            " 1 0 0 0 0 0 0 0 1 0 0 0]\n"
          ]
        }
      ],
      "source": [
        "print(y)"
      ]
    },
    {
      "cell_type": "code",
      "execution_count": 59,
      "metadata": {
        "id": "pbVjN7S3S87K"
      },
      "outputs": [],
      "source": [
        "from sklearn.preprocessing import LabelEncoder\n",
        "le = LabelEncoder()\n",
        "x[:, 0] = le.fit_transform(x[:, 0])"
      ]
    },
    {
      "cell_type": "markdown",
      "metadata": {
        "id": "yElykOvITt1T"
      },
      "source": [
        "# SPLIT DATA"
      ]
    },
    {
      "cell_type": "code",
      "execution_count": 60,
      "metadata": {
        "id": "8Q6upAxuS8_l"
      },
      "outputs": [],
      "source": [
        "from sklearn.model_selection import train_test_split"
      ]
    },
    {
      "cell_type": "code",
      "execution_count": 61,
      "metadata": {
        "id": "s6hQFt-mT1KM"
      },
      "outputs": [],
      "source": [
        "x_train, x_test, y_train, y_test = train_test_split (x,y, test_size = 5, random_state = 0)"
      ]
    },
    {
      "cell_type": "code",
      "execution_count": 62,
      "metadata": {
        "colab": {
          "base_uri": "https://localhost:8080/"
        },
        "id": "rUNK_60lT1Mr",
        "outputId": "4735bbb4-ef29-4b6e-f983-872c92aedaf7"
      },
      "outputs": [
        {
          "name": "stdout",
          "output_type": "stream",
          "text": [
            "[[100 5 4 5 4 4 22]\n",
            " [132 4 5 5 4 5 23]\n",
            " [444 5 3 3 5 3 19]\n",
            " [85 3 5 5 3 5 21]\n",
            " [445 4 5 4 4 5 22]]\n"
          ]
        }
      ],
      "source": [
        "print(x_test)"
      ]
    },
    {
      "cell_type": "code",
      "execution_count": 63,
      "metadata": {
        "id": "r7cZE5c7T1O1"
      },
      "outputs": [],
      "source": [
        "from sklearn.preprocessing import StandardScaler"
      ]
    },
    {
      "cell_type": "code",
      "execution_count": 64,
      "metadata": {
        "id": "GS3A2-0BT1RA"
      },
      "outputs": [],
      "source": [
        "sc = StandardScaler()\n",
        "x_train = sc.fit_transform(x_train)\n",
        "x_test = sc.fit_transform(x_test)"
      ]
    },
    {
      "cell_type": "code",
      "execution_count": 65,
      "metadata": {
        "colab": {
          "base_uri": "https://localhost:8080/"
        },
        "id": "Iy2T7bdIT1TF",
        "outputId": "882e4bed-5a7a-4425-88dc-b97579e68d28"
      },
      "outputs": [
        {
          "name": "stdout",
          "output_type": "stream",
          "text": [
            "[[-0.60366287  0.8524885   0.89117156 ...  0.80304593  0.83325416\n",
            "   1.60493992]\n",
            " [-0.54353818  0.8524885  -0.31990774 ...  0.80304593 -0.44066326\n",
            "   0.15433577]\n",
            " [ 1.07982862 -0.4699083   0.89117156 ... -0.62359432  0.83325416\n",
            "  -0.32919895]\n",
            " ...\n",
            " [-0.61702392  0.8524885   0.89117156 ...  0.80304593  0.83325416\n",
            "   0.63787049]\n",
            " [ 1.36709106  0.8524885  -1.53098704 ... -0.62359432 -0.44066326\n",
            "  -1.29626839]\n",
            " [ 0.89945453  0.8524885  -1.53098704 ...  0.80304593 -1.71458067\n",
            "  -0.32919895]]\n"
          ]
        }
      ],
      "source": [
        "print(x_train)"
      ]
    },
    {
      "cell_type": "markdown",
      "metadata": {
        "id": "S0tIn7kFT8dI"
      },
      "source": [
        "# Training"
      ]
    },
    {
      "cell_type": "code",
      "execution_count": 66,
      "metadata": {
        "id": "5F7Rme18T7l0"
      },
      "outputs": [],
      "source": [
        "from sklearn.naive_bayes import GaussianNB"
      ]
    },
    {
      "cell_type": "code",
      "execution_count": 67,
      "metadata": {
        "colab": {
          "base_uri": "https://localhost:8080/"
        },
        "id": "tvbmKH1oT7oQ",
        "outputId": "230e1c8d-1647-457a-9a47-6dd5fdc6f931"
      },
      "outputs": [
        {
          "data": {
            "text/html": [
              "<style>#sk-container-id-2 {color: black;background-color: white;}#sk-container-id-2 pre{padding: 0;}#sk-container-id-2 div.sk-toggleable {background-color: white;}#sk-container-id-2 label.sk-toggleable__label {cursor: pointer;display: block;width: 100%;margin-bottom: 0;padding: 0.3em;box-sizing: border-box;text-align: center;}#sk-container-id-2 label.sk-toggleable__label-arrow:before {content: \"▸\";float: left;margin-right: 0.25em;color: #696969;}#sk-container-id-2 label.sk-toggleable__label-arrow:hover:before {color: black;}#sk-container-id-2 div.sk-estimator:hover label.sk-toggleable__label-arrow:before {color: black;}#sk-container-id-2 div.sk-toggleable__content {max-height: 0;max-width: 0;overflow: hidden;text-align: left;background-color: #f0f8ff;}#sk-container-id-2 div.sk-toggleable__content pre {margin: 0.2em;color: black;border-radius: 0.25em;background-color: #f0f8ff;}#sk-container-id-2 input.sk-toggleable__control:checked~div.sk-toggleable__content {max-height: 200px;max-width: 100%;overflow: auto;}#sk-container-id-2 input.sk-toggleable__control:checked~label.sk-toggleable__label-arrow:before {content: \"▾\";}#sk-container-id-2 div.sk-estimator input.sk-toggleable__control:checked~label.sk-toggleable__label {background-color: #d4ebff;}#sk-container-id-2 div.sk-label input.sk-toggleable__control:checked~label.sk-toggleable__label {background-color: #d4ebff;}#sk-container-id-2 input.sk-hidden--visually {border: 0;clip: rect(1px 1px 1px 1px);clip: rect(1px, 1px, 1px, 1px);height: 1px;margin: -1px;overflow: hidden;padding: 0;position: absolute;width: 1px;}#sk-container-id-2 div.sk-estimator {font-family: monospace;background-color: #f0f8ff;border: 1px dotted black;border-radius: 0.25em;box-sizing: border-box;margin-bottom: 0.5em;}#sk-container-id-2 div.sk-estimator:hover {background-color: #d4ebff;}#sk-container-id-2 div.sk-parallel-item::after {content: \"\";width: 100%;border-bottom: 1px solid gray;flex-grow: 1;}#sk-container-id-2 div.sk-label:hover label.sk-toggleable__label {background-color: #d4ebff;}#sk-container-id-2 div.sk-serial::before {content: \"\";position: absolute;border-left: 1px solid gray;box-sizing: border-box;top: 0;bottom: 0;left: 50%;z-index: 0;}#sk-container-id-2 div.sk-serial {display: flex;flex-direction: column;align-items: center;background-color: white;padding-right: 0.2em;padding-left: 0.2em;position: relative;}#sk-container-id-2 div.sk-item {position: relative;z-index: 1;}#sk-container-id-2 div.sk-parallel {display: flex;align-items: stretch;justify-content: center;background-color: white;position: relative;}#sk-container-id-2 div.sk-item::before, #sk-container-id-2 div.sk-parallel-item::before {content: \"\";position: absolute;border-left: 1px solid gray;box-sizing: border-box;top: 0;bottom: 0;left: 50%;z-index: -1;}#sk-container-id-2 div.sk-parallel-item {display: flex;flex-direction: column;z-index: 1;position: relative;background-color: white;}#sk-container-id-2 div.sk-parallel-item:first-child::after {align-self: flex-end;width: 50%;}#sk-container-id-2 div.sk-parallel-item:last-child::after {align-self: flex-start;width: 50%;}#sk-container-id-2 div.sk-parallel-item:only-child::after {width: 0;}#sk-container-id-2 div.sk-dashed-wrapped {border: 1px dashed gray;margin: 0 0.4em 0.5em 0.4em;box-sizing: border-box;padding-bottom: 0.4em;background-color: white;}#sk-container-id-2 div.sk-label label {font-family: monospace;font-weight: bold;display: inline-block;line-height: 1.2em;}#sk-container-id-2 div.sk-label-container {text-align: center;}#sk-container-id-2 div.sk-container {/* jupyter's `normalize.less` sets `[hidden] { display: none; }` but bootstrap.min.css set `[hidden] { display: none !important; }` so we also need the `!important` here to be able to override the default hidden behavior on the sphinx rendered scikit-learn.org. See: https://github.com/scikit-learn/scikit-learn/issues/21755 */display: inline-block !important;position: relative;}#sk-container-id-2 div.sk-text-repr-fallback {display: none;}</style><div id=\"sk-container-id-2\" class=\"sk-top-container\"><div class=\"sk-text-repr-fallback\"><pre>GaussianNB()</pre><b>In a Jupyter environment, please rerun this cell to show the HTML representation or trust the notebook. <br />On GitHub, the HTML representation is unable to render, please try loading this page with nbviewer.org.</b></div><div class=\"sk-container\" hidden><div class=\"sk-item\"><div class=\"sk-estimator sk-toggleable\"><input class=\"sk-toggleable__control sk-hidden--visually\" id=\"sk-estimator-id-2\" type=\"checkbox\" checked><label for=\"sk-estimator-id-2\" class=\"sk-toggleable__label sk-toggleable__label-arrow\">GaussianNB</label><div class=\"sk-toggleable__content\"><pre>GaussianNB()</pre></div></div></div></div></div>"
            ],
            "text/plain": [
              "GaussianNB()"
            ]
          },
          "execution_count": 67,
          "metadata": {},
          "output_type": "execute_result"
        }
      ],
      "source": [
        "classifier = GaussianNB()\n",
        "classifier.fit(x_train, y_train)"
      ]
    },
    {
      "cell_type": "markdown",
      "metadata": {
        "id": "LggR5UfFT_p_"
      },
      "source": [
        "# Predict"
      ]
    },
    {
      "cell_type": "code",
      "execution_count": 68,
      "metadata": {
        "id": "Oai9I5jQT7q4"
      },
      "outputs": [],
      "source": [
        "y_pred = classifier.predict(x_test)"
      ]
    },
    {
      "cell_type": "code",
      "execution_count": 69,
      "metadata": {
        "colab": {
          "base_uri": "https://localhost:8080/"
        },
        "id": "mN3U4BWoUCsX",
        "outputId": "ad81f299-9d32-49aa-fd13-1ac448c42cbb"
      },
      "outputs": [
        {
          "name": "stdout",
          "output_type": "stream",
          "text": [
            "[0 0 1 0 0]\n"
          ]
        }
      ],
      "source": [
        "print(y_pred)"
      ]
    },
    {
      "cell_type": "code",
      "execution_count": 70,
      "metadata": {
        "colab": {
          "base_uri": "https://localhost:8080/"
        },
        "id": "9fxk9nOzUCu4",
        "outputId": "d146720e-765f-43df-80e5-0da8df62d127"
      },
      "outputs": [
        {
          "name": "stdout",
          "output_type": "stream",
          "text": [
            "[0 0 1 0 0]\n"
          ]
        }
      ],
      "source": [
        "print(y_test)"
      ]
    },
    {
      "cell_type": "markdown",
      "metadata": {
        "id": "gj9a3zDqUGxY"
      },
      "source": [
        "# Evaluasi"
      ]
    },
    {
      "cell_type": "code",
      "execution_count": 71,
      "metadata": {
        "id": "ikvCkRc5UCxe"
      },
      "outputs": [],
      "source": [
        "from sklearn.metrics import confusion_matrix,accuracy_score"
      ]
    },
    {
      "cell_type": "code",
      "execution_count": 72,
      "metadata": {
        "id": "04jp2TmkUCzk"
      },
      "outputs": [],
      "source": [
        "cs = confusion_matrix(y_test, y_pred)\n",
        "ac = accuracy_score(y_test, y_pred)"
      ]
    },
    {
      "cell_type": "code",
      "execution_count": 73,
      "metadata": {
        "colab": {
          "base_uri": "https://localhost:8080/"
        },
        "id": "schtmoqeUKVM",
        "outputId": "cf64d413-62ae-4e96-a256-61b2aab85d94"
      },
      "outputs": [
        {
          "data": {
            "text/plain": [
              "array([[4, 0],\n",
              "       [0, 1]], dtype=int64)"
            ]
          },
          "execution_count": 73,
          "metadata": {},
          "output_type": "execute_result"
        }
      ],
      "source": [
        "cs"
      ]
    },
    {
      "cell_type": "code",
      "execution_count": 74,
      "metadata": {
        "colab": {
          "base_uri": "https://localhost:8080/"
        },
        "id": "MPCZXPSbUKXk",
        "outputId": "466aa7be-4b7b-4a8c-ed49-7e71bdfcb52b"
      },
      "outputs": [
        {
          "data": {
            "text/plain": [
              "1.0"
            ]
          },
          "execution_count": 74,
          "metadata": {},
          "output_type": "execute_result"
        }
      ],
      "source": [
        "ac"
      ]
    },
    {
      "cell_type": "code",
      "execution_count": 75,
      "metadata": {
        "colab": {
          "base_uri": "https://localhost:8080/"
        },
        "id": "5Bzjgq98UKZx",
        "outputId": "2190477b-5a95-4127-ae93-672abde7c287"
      },
      "outputs": [
        {
          "data": {
            "text/plain": [
              "538"
            ]
          },
          "execution_count": 75,
          "metadata": {},
          "output_type": "execute_result"
        }
      ],
      "source": [
        "df[df['Keterangan'] == 0] ['Keterangan'].count()"
      ]
    },
    {
      "cell_type": "code",
      "execution_count": 76,
      "metadata": {
        "colab": {
          "base_uri": "https://localhost:8080/"
        },
        "id": "vJNqbMImUKb4",
        "outputId": "bf4b2c80-474b-480c-e568-fe0695f3222a"
      },
      "outputs": [
        {
          "data": {
            "text/plain": [
              "103"
            ]
          },
          "execution_count": 76,
          "metadata": {},
          "output_type": "execute_result"
        }
      ],
      "source": [
        "df[df['Keterangan'] == 1] ['Keterangan'].count()"
      ]
    },
    {
      "cell_type": "code",
      "execution_count": 77,
      "metadata": {
        "colab": {
          "base_uri": "https://localhost:8080/",
          "height": 338
        },
        "id": "YGAQKxieUTDu",
        "outputId": "627aef95-49e5-44c5-bf9d-3c702afeb3bb"
      },
      "outputs": [
        {
          "data": {
            "image/png": "[encoded data removed]",
            "text/plain": [
              "<Figure size 500x500 with 1 Axes>"
            ]
          },
          "metadata": {},
          "output_type": "display_data"
        }
      ],
      "source": [
        "figure = ['Perpanjang', 'Tidak Diperpanjang']\n",
        "target = [538, 103]\n",
        "\n",
        "plt.figure(figsize=(5,5))\n",
        "plt.bar(figure, target, color='lightcoral')\n",
        "\n",
        "plt.title('Prediksi Perpanjangan Kontrak Karyawan', size=16)\n",
        "plt.ylabel('Keterangan', size=14)\n",
        "plt.xticks(size=10)\n",
        "plt.yticks(size=10)\n",
        "\n",
        "plt.show()"
      ]
    },
    {
      "cell_type": "code",
      "execution_count": 78,
      "metadata": {
        "id": "1qRqcA-LUTGK"
      },
      "outputs": [],
      "source": [
        "import pickle"
      ]
    },
    {
      "cell_type": "code",
      "execution_count": 80,
      "metadata": {
        "id": "HAeVjc9qUTI1"
      },
      "outputs": [],
      "source": [
        "filename = 'employee.sav'\n",
        "pickle.dump(classifier, open(filename, 'wb'))"
      ]
    }
  ],
  "metadata": {
    "colab": {
      "provenance": []
    },
    "kernelspec": {
      "display_name": "Python 3",
      "language": "python",
      "name": "python3"
    },
    "language_info": {
      "codemirror_mode": {
        "name": "ipython",
        "version": 3
      },
      "file_extension": ".py",
      "mimetype": "text/x-python",
      "name": "python",
      "nbconvert_exporter": "python",
      "pygments_lexer": "ipython3",
      "version": "3.11.1"
    },
    "vscode": {
      "interpreter": {
        "hash": "1bfd3319633fd8c7aa5134e93d0128e2f6536b2ccba51be3053a4ff1c5f4e04b"
      }
    }
  },
  "nbformat": 4,
  "nbformat_minor": 0
}
